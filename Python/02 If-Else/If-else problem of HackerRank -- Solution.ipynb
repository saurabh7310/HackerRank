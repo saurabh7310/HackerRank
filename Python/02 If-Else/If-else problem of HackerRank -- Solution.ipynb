{
 "cells": [
  {
   "cell_type": "markdown",
   "id": "743ee0d6",
   "metadata": {},
   "source": [
    "# HackerRAnk"
   ]
  },
  {
   "cell_type": "markdown",
   "id": "3154e4da",
   "metadata": {},
   "source": [
    "### Problem\n",
    "\n",
    "    Given an integer, , perform the following conditional actions:\n",
    "\n",
    "    If n is odd, print Weird\n",
    "    If n is even and in the inclusive range of 2 to 5, print Not Weird\n",
    "    If n is even and in the inclusive range of 6 to 20, print Weird\n",
    "    If n is even and greater than 20, print Not Weird"
   ]
  },
  {
   "cell_type": "markdown",
   "id": "bec87e98",
   "metadata": {},
   "source": [
    "## Solution"
   ]
  },
  {
   "cell_type": "code",
   "execution_count": 35,
   "id": "f0300dea",
   "metadata": {},
   "outputs": [
    {
     "name": "stdout",
     "output_type": "stream",
     "text": [
      "24\n",
      "Not Weird\n"
     ]
    }
   ],
   "source": [
    "#!/bin/python3\n",
    "\n",
    "import math\n",
    "import os\n",
    "import random\n",
    "import re\n",
    "import sys\n",
    "\n",
    "# def main(n):\n",
    "    \n",
    "\n",
    "\n",
    "if __name__ == '__main__':\n",
    "    n = int(input().strip())\n",
    "    if (2<=n<=5 and n%2==0):\n",
    "        print(\"Not Weird\")\n",
    "    if (6<=n<=20 and n%2==0):\n",
    "        print(\"Weird\")\n",
    "    if (n>20 and n%2==0):\n",
    "        print(\"Not Weird\")\n",
    "    else:\n",
    "        print(\"Weird\")"
   ]
  },
  {
   "cell_type": "code",
   "execution_count": 16,
   "id": "c8f44447",
   "metadata": {},
   "outputs": [
    {
     "name": "stdout",
     "output_type": "stream",
     "text": [
      "3\n"
     ]
    }
   ],
   "source": [
    "n = int(input())\n",
    "if(n%2==0 and 2<=n<=5):\n",
    "    print(\"Not Weird\")\n",
    "elif(n%2==0 and 6<=n<=20):\n",
    "    print(\"Weird\")\n",
    "elif(n%2==0 and n>20):\n",
    "    print(\"Not Weird\")"
   ]
  },
  {
   "cell_type": "code",
   "execution_count": 34,
   "id": "cf8dc0ce",
   "metadata": {},
   "outputs": [
    {
     "name": "stdout",
     "output_type": "stream",
     "text": [
      "Not Weird\n"
     ]
    }
   ],
   "source": [
    "n = 24\n",
    "if (2<=n<=5 and n%2==0):\n",
    "    print(\"Not Weird\")\n",
    "if (6<=n<=20 and n%2==0):\n",
    "    print(\"Weird\")\n",
    "if (n>20 and n%2==0):\n",
    "    print(\"Not Weird\")\n",
    "else:\n",
    "    print(\"Weird\")"
   ]
  },
  {
   "cell_type": "code",
   "execution_count": null,
   "id": "f94ff195",
   "metadata": {},
   "outputs": [],
   "source": []
  }
 ],
 "metadata": {
  "kernelspec": {
   "display_name": "Python 3 (ipykernel)",
   "language": "python",
   "name": "python3"
  },
  "language_info": {
   "codemirror_mode": {
    "name": "ipython",
    "version": 3
   },
   "file_extension": ".py",
   "mimetype": "text/x-python",
   "name": "python",
   "nbconvert_exporter": "python",
   "pygments_lexer": "ipython3",
   "version": "3.9.12"
  }
 },
 "nbformat": 4,
 "nbformat_minor": 5
}
