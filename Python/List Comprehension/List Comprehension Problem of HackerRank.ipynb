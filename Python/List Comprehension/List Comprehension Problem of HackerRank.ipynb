{
 "cells": [
  {
   "cell_type": "markdown",
   "id": "4f9b1420",
   "metadata": {},
   "source": [
    "# HackerRank"
   ]
  },
  {
   "cell_type": "markdown",
   "id": "bc191148",
   "metadata": {},
   "source": [
    "## Problem Statement\n",
    "\n",
    "    Let's learn about list comprehensions! You are given three integers x, y adn z representing the dimentsions of a cuboid aliong with an integer n.\n",
    "    Print a list of all possible cootdinates given by (i, j, k) on a 3D grid where the sum of i+j+k is not equal to n.\n",
    "    Here, 0<=i<=x, 0<=j<=y, 0<=k<=z. Please use list comprehensions rather than multiple loops, as a learning exercise.\n",
    "\n",
    "#### Example\n",
    "\n",
    "    x =1\n",
    "    y = 2\n",
    "    z = 3\n",
    "    All permutations of [i, j, k] are:\n",
    "    [[0, 0, 0], [0, 0, 1], [0, 1, 0], [1, 0, 0], [1, 1, 1]]"
   ]
  },
  {
   "cell_type": "markdown",
   "id": "cd8c51ab",
   "metadata": {},
   "source": [
    "### Solution"
   ]
  },
  {
   "cell_type": "code",
   "execution_count": 1,
   "id": "ecad2139",
   "metadata": {},
   "outputs": [
    {
     "name": "stdout",
     "output_type": "stream",
     "text": [
      "2\n",
      "1\n",
      "1\n",
      "1\n",
      "[[0, 0, 0], [0, 1, 1], [1, 0, 1], [1, 1, 0], [1, 1, 1], [2, 0, 0], [2, 0, 1], [2, 1, 0], [2, 1, 1]]\n"
     ]
    }
   ],
   "source": [
    "def main(n, x, y, z):\n",
    "    Result = [[i, j, k] for i in range(x+1) for j in range(y+1) for k in range(z+1) if((0<=i<=x and 0<=j<=y and 0<=k<=z) and (i+j+k != n)) ]\n",
    "    return Result\n",
    "\n",
    "if __name__ == '__main__':\n",
    "    x = int(input())\n",
    "    y = int(input())\n",
    "    z = int(input())\n",
    "    n = int(input())\n",
    "    print(main(n, x, y, z))"
   ]
  }
 ],
 "metadata": {
  "kernelspec": {
   "display_name": "Python 3 (ipykernel)",
   "language": "python",
   "name": "python3"
  },
  "language_info": {
   "codemirror_mode": {
    "name": "ipython",
    "version": 3
   },
   "file_extension": ".py",
   "mimetype": "text/x-python",
   "name": "python",
   "nbconvert_exporter": "python",
   "pygments_lexer": "ipython3",
   "version": "3.9.12"
  }
 },
 "nbformat": 4,
 "nbformat_minor": 5
}
